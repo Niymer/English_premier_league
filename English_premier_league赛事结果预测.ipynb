{
 "cells": [
  {
   "cell_type": "markdown",
   "id": "59d92dbe",
   "metadata": {},
   "source": [
    "# 一个简单的线性回归模型"
   ]
  },
  {
   "cell_type": "code",
   "execution_count": 8,
   "id": "0f48550d",
   "metadata": {},
   "outputs": [],
   "source": [
    "import os\n",
    "# 创建用于存储数据的文件夹\n",
    "if not os.path.exists('Premier_League_data/predicted'):\n",
    "    os.makedirs('Premier_League_data/predicted')"
   ]
  },
  {
   "cell_type": "code",
   "execution_count": 1,
   "id": "d928bb06",
   "metadata": {},
   "outputs": [
    {
     "name": "stderr",
     "output_type": "stream",
     "text": [
      "/var/folders/qp/w4l86_z57cg81831df6lkm6w0000gn/T/ipykernel_1367/1771944377.py:10: FutureWarning: The default value of numeric_only in DataFrameGroupBy.mean is deprecated. In a future version, numeric_only will default to False. Either specify numeric_only or select only columns which should be valid for the function.\n",
      "  team_stats = all_seasons_df.groupby(\"HomeTeam\").mean()\n"
     ]
    }
   ],
   "source": [
    "import pandas as pd\n",
    "import numpy as np\n",
    "from sklearn.linear_model import LinearRegression\n",
    "\n",
    "# 读取之前存储的CSV文件\n",
    "all_seasons_df = pd.read_csv(\"Premier_League_data/all_seasons_data_relevant.csv\")\n",
    "remaining_matches_df = pd.read_csv(\"Premier_League_data/remaining_matches_updated.csv\")\n",
    "\n",
    "# 计算每个球队的平均数据\n",
    "team_stats = all_seasons_df.groupby(\"HomeTeam\").mean()\n",
    "team_stats = team_stats.reset_index()\n",
    "\n",
    "# 准备剩余比赛的特征数据\n",
    "unique_remaining_matches = remaining_matches_df.drop_duplicates(subset=[\"Home Team\", \"Away Team\"])\n",
    "\n",
    "remaining_matches_features = unique_remaining_matches.merge(\n",
    "    team_stats, left_on=\"Home Team\", right_on=\"HomeTeam\", how=\"left\").merge(\n",
    "    team_stats, left_on=\"Away Team\", right_on=\"HomeTeam\", how=\"left\", suffixes=(\"_home\", \"_away\"))\n",
    "\n",
    "# 只选取我们关心的特征\n",
    "features = [\"FTHG\", \"FTAG\", \"HS\", \"AS\", \"HF\", \"AF\", \"HC\", \"AC\"]\n",
    "remaining_matches_features = remaining_matches_features[[f\"{feat}_home\" for feat in features] + [f\"{feat}_away\" for feat in features]]\n",
    "remaining_matches_features.columns = features * 2\n",
    "\n",
    "# 填充剩余比赛特征数据的缺失值\n",
    "remaining_matches_features.fillna(0, inplace=True)\n",
    "\n",
    "# 训练线性回归模型\n",
    "original_features = ['FTHG', 'FTAG', 'HS', 'AS', 'HF', 'AF', 'HC', 'AC',\n",
    "                     'FTHG', 'FTAG', 'HS', 'AS', 'HF', 'AF', 'HC', 'AC']\n",
    "\n",
    "# 使用均值填充 NaN 值\n",
    "all_seasons_df_filled = all_seasons_df[original_features].fillna(all_seasons_df[original_features].mean())\n",
    "target_filled = all_seasons_df[[\"FTHG\", \"FTAG\"]].fillna(all_seasons_df[[\"FTHG\", \"FTAG\"]].mean())\n",
    "\n",
    "lr = LinearRegression()\n",
    "lr.fit(all_seasons_df_filled, target_filled)\n",
    "\n",
    "# 预测剩余比赛的比分\n",
    "unique_remaining_matches_predictions = lr.predict(remaining_matches_features)\n",
    "\n",
    "# 四舍五入预测结果并将负数设为0\n",
    "rounded_predictions = np.round(unique_remaining_matches_predictions).clip(min=0)\n",
    "\n",
    "# 将预测结果添加到剩余比赛数据中\n",
    "unique_remaining_matches[\"Predicted Home Goals\"] = rounded_predictions[:, 0]\n",
    "unique_remaining_matches[\"Predicted Away Goals\"] = rounded_predictions[:, 1]\n",
    "\n",
    "# 将预测结果映射回原始剩余比赛数据\n",
    "remaining_matches_df = remaining_matches_df.merge(\n",
    "    unique_remaining_matches[[\"Home Team\", \"Away Team\", \"Predicted Home Goals\", \"Predicted Away Goals\"]],\n",
    "    on=[\"Home Team\", \"Away Team\"], how=\"left\")\n",
    "\n",
    "# 保存包含预测比分的剩余比赛数据\n",
    "remaining_matches_df.to_csv(\"Premier_League_data/predicted/predicted_scores.csv\", index=False)\n"
   ]
  },
  {
   "cell_type": "code",
   "execution_count": null,
   "id": "8e482b76",
   "metadata": {},
   "outputs": [],
   "source": []
  },
  {
   "cell_type": "code",
   "execution_count": null,
   "id": "e3f86608",
   "metadata": {},
   "outputs": [],
   "source": []
  },
  {
   "cell_type": "markdown",
   "id": "5a85c6c7",
   "metadata": {},
   "source": [
    "# XGBoost回归模型进行预测"
   ]
  },
  {
   "cell_type": "code",
   "execution_count": 2,
   "id": "00dbf2c4",
   "metadata": {},
   "outputs": [
    {
     "name": "stdout",
     "output_type": "stream",
     "text": [
      "Requirement already satisfied: xgboost in ./miniforge3/lib/python3.10/site-packages (1.7.5)\n",
      "Requirement already satisfied: scipy in ./miniforge3/lib/python3.10/site-packages (from xgboost) (1.10.1)\n",
      "Requirement already satisfied: numpy in ./miniforge3/lib/python3.10/site-packages (from xgboost) (1.24.2)\n",
      "Note: you may need to restart the kernel to use updated packages.\n"
     ]
    }
   ],
   "source": [
    "pip install xgboost"
   ]
  },
  {
   "cell_type": "code",
   "execution_count": 3,
   "id": "b88bfa6b",
   "metadata": {},
   "outputs": [
    {
     "name": "stdout",
     "output_type": "stream",
     "text": [
      "Mean Squared Error: 3.0206\n"
     ]
    }
   ],
   "source": [
    "import pandas as pd\n",
    "from xgboost import XGBRegressor\n",
    "from sklearn.metrics import mean_squared_error\n",
    "from sklearn.model_selection import train_test_split\n",
    "\n",
    "# 加载数据\n",
    "data_path = \"Premier_League_data/all_seasons_data_relevant.csv\"\n",
    "all_seasons_df = pd.read_csv(data_path)\n",
    "\n",
    "# 计算平均进球数\n",
    "all_seasons_df['HomeTeam_avg_goals'] = all_seasons_df.groupby('HomeTeam')['FTHG'].transform('mean')\n",
    "all_seasons_df['AwayTeam_avg_goals'] = all_seasons_df.groupby('AwayTeam')['FTAG'].transform('mean')\n",
    "\n",
    "# 定义新特征\n",
    "new_features = ['HomeTeam_avg_goals', 'AwayTeam_avg_goals']\n",
    "\n",
    "# 删除包含NaN值的行\n",
    "all_seasons_df = all_seasons_df.dropna(subset=new_features)\n",
    "\n",
    "# 定义特征和目标变量\n",
    "X_new = all_seasons_df[new_features]\n",
    "y_new = all_seasons_df['FTHG'] - all_seasons_df['FTAG']\n",
    "\n",
    "# 划分训练集和测试集\n",
    "X_train_new, X_test_new, y_train_new, y_test_new = train_test_split(X_new, y_new, test_size=0.2, random_state=42)\n",
    "\n",
    "# 训练新模型\n",
    "model_new = XGBRegressor(objective='reg:squarederror')\n",
    "model_new.fit(X_train_new, y_train_new)\n",
    "\n",
    "# 使用新模型对测试集进行预测并计算均方误差\n",
    "y_pred_new = model_new.predict(X_test_new)\n",
    "mse_new = mean_squared_error(y_test_new, y_pred_new)\n",
    "\n",
    "print(\"Mean Squared Error: {:.4f}\".format(mse_new))\n"
   ]
  },
  {
   "cell_type": "code",
   "execution_count": 4,
   "id": "546584c1",
   "metadata": {},
   "outputs": [],
   "source": [
    "# 加载 remaining_matches_updated.csv 文件\n",
    "remaining_matches_path = \"Premier_League_data/remaining_matches_updated.csv\"\n",
    "remaining_matches_df = pd.read_csv(remaining_matches_path, skiprows=1, names=[\"Date\", \"Home Team\", \"Away Team\"])\n",
    "\n",
    "# 计算主队和客队的平均进球数\n",
    "home_team_avg_goals = all_seasons_df.groupby('HomeTeam')['FTHG'].mean()\n",
    "away_team_avg_goals = all_seasons_df.groupby('AwayTeam')['FTAG'].mean()\n",
    "\n",
    "# 添加主队和客队的平均进球数到 remaining_matches_df\n",
    "remaining_matches_df['HomeTeam_avg_goals'] = remaining_matches_df['Home Team'].map(home_team_avg_goals)\n",
    "remaining_matches_df['AwayTeam_avg_goals'] = remaining_matches_df['Away Team'].map(away_team_avg_goals)\n",
    "\n",
    "# 使用模型预测比分差值\n",
    "remaining_matches_features = remaining_matches_df[['HomeTeam_avg_goals', 'AwayTeam_avg_goals']]\n",
    "remaining_matches_df['score_difference'] = model_new.predict(remaining_matches_features)\n",
    "\n",
    "# 计算预测的比分\n",
    "remaining_matches_df['predicted_home_goals'] = round(remaining_matches_df['HomeTeam_avg_goals'] + remaining_matches_df['score_difference'])\n",
    "remaining_matches_df['predicted_away_goals'] = round(remaining_matches_df['AwayTeam_avg_goals'])\n",
    "\n",
    "# 保存预测结果到 CSV 文件\n",
    "predicted_scores_path = \"Premier_League_data/predicted/predicted_scores_XGBoost.csv\"\n",
    "columns_to_save = [\"Date\", \"Home Team\", \"Away Team\", \"predicted_home_goals\", \"predicted_away_goals\"]\n",
    "remaining_matches_df[columns_to_save].to_csv(predicted_scores_path, index=False)\n"
   ]
  },
  {
   "cell_type": "code",
   "execution_count": null,
   "id": "79ed289b",
   "metadata": {},
   "outputs": [],
   "source": []
  },
  {
   "cell_type": "markdown",
   "id": "14b70794",
   "metadata": {},
   "source": [
    "# 基于随机森林（Random Forest）回归模型的预测方法"
   ]
  },
  {
   "cell_type": "code",
   "execution_count": 5,
   "id": "9343ee5e",
   "metadata": {},
   "outputs": [
    {
     "name": "stdout",
     "output_type": "stream",
     "text": [
      "Mean Squared Error: 3.2074\n"
     ]
    }
   ],
   "source": [
    "import pandas as pd\n",
    "from sklearn.ensemble import RandomForestRegressor\n",
    "from sklearn.model_selection import train_test_split\n",
    "from sklearn.metrics import mean_squared_error\n",
    "\n",
    "# 加载数据\n",
    "data_path = \"Premier_League_data/all_seasons_data_relevant.csv\"\n",
    "all_seasons_df = pd.read_csv(data_path)\n",
    "\n",
    "# 计算平均进球数\n",
    "all_seasons_df['HomeTeam_avg_goals'] = all_seasons_df.groupby('HomeTeam')['FTHG'].transform('mean')\n",
    "all_seasons_df['AwayTeam_avg_goals'] = all_seasons_df.groupby('AwayTeam')['FTAG'].transform('mean')\n",
    "\n",
    "# 定义新特征\n",
    "new_features = ['HomeTeam_avg_goals', 'AwayTeam_avg_goals']\n",
    "\n",
    "# 删除包含NaN值的行\n",
    "all_seasons_df = all_seasons_df.dropna(subset=new_features)\n",
    "\n",
    "# 定义特征和目标变量\n",
    "X_new = all_seasons_df[new_features]\n",
    "y_new = all_seasons_df['FTHG'] - all_seasons_df['FTAG']\n",
    "\n",
    "# 划分训练集和测试集\n",
    "X_train_new, X_test_new, y_train_new, y_test_new = train_test_split(X_new, y_new, test_size=0.2, random_state=42)\n",
    "\n",
    "# 训练新模型\n",
    "model_new = RandomForestRegressor(n_estimators=100, random_state=42)\n",
    "model_new.fit(X_train_new, y_train_new)\n",
    "\n",
    "# 使用新模型对测试集进行预测并计算均方误差\n",
    "y_pred_new = model_new.predict(X_test_new)\n",
    "mse_new = mean_squared_error(y_test_new, y_pred_new)\n",
    "\n",
    "print(\"Mean Squared Error: {:.4f}\".format(mse_new))\n",
    "\n",
    "# 加载 remaining_matches_updated.csv 文件\n",
    "remaining_matches_path = \"Premier_League_data/remaining_matches_updated.csv\"\n",
    "remaining_matches_df = pd.read_csv(remaining_matches_path, skiprows=1, names=[\"Date\", \"Home Team\", \"Away Team\"])\n",
    "\n",
    "# 计算主队和客队的平均进球数\n",
    "home_team_avg_goals = all_seasons_df.groupby('HomeTeam')['FTHG'].mean()\n",
    "away_team_avg_goals = all_seasons_df.groupby('AwayTeam')['FTAG'].mean()\n",
    "\n",
    "# 添加主队和客队的平均进球数到 remaining_matches_df\n",
    "remaining_matches_df['HomeTeam_avg_goals'] = remaining_matches_df['Home Team'].map(home_team_avg_goals)\n",
    "remaining_matches_df['AwayTeam_avg_goals'] = remaining_matches_df['Away Team'].map(away_team_avg_goals)\n",
    "\n",
    "# 使用模型预测比分差值\n",
    "remaining_matches_features = remaining_matches_df[['HomeTeam_avg_goals', 'AwayTeam_avg_goals']]\n",
    "remaining_matches_df['score_difference'] = model_new.predict(remaining_matches_features)\n",
    "\n",
    "# 计算预测的比分\n",
    "remaining_matches_df['predicted_home_goals'] = round(remaining_matches_df['HomeTeam_avg_goals'] + remaining_matches_df['score_difference'])\n",
    "remaining_matches_df['predicted_away_goals'] = round(remaining_matches_df['AwayTeam_avg_goals'])\n",
    "\n",
    "# 保存预测结果到 CSV 文件\n",
    "predicted_scores_path = \"Premier_League_data/predicted/predicted_scores_rf.csv\"\n",
    "columns_to_save = [\"Date\", \"Home Team\", \"Away Team\", \"predicted_home_goals\", \"predicted_away_goals\"]\n",
    "remaining_matches_df[columns_to_save].to_csv(predicted_scores_path, index=False)\n"
   ]
  },
  {
   "cell_type": "code",
   "execution_count": null,
   "id": "e7d392f5",
   "metadata": {},
   "outputs": [],
   "source": []
  },
  {
   "cell_type": "code",
   "execution_count": null,
   "id": "04319e1f",
   "metadata": {},
   "outputs": [],
   "source": []
  },
  {
   "cell_type": "markdown",
   "id": "df3a1fdd",
   "metadata": {},
   "source": [
    "# 基于神经网络的完整预测代码，使用了 Keras 和 TensorFlow 库"
   ]
  },
  {
   "cell_type": "code",
   "execution_count": 6,
   "id": "1a113151",
   "metadata": {
    "collapsed": true
   },
   "outputs": [
    {
     "name": "stdout",
     "output_type": "stream",
     "text": [
      "Requirement already satisfied: tensorflow in ./miniforge3/lib/python3.10/site-packages (2.11.1)\n",
      "Requirement already satisfied: typing-extensions>=3.6.6 in ./miniforge3/lib/python3.10/site-packages (from tensorflow) (4.5.0)\n",
      "Requirement already satisfied: setuptools in ./miniforge3/lib/python3.10/site-packages (from tensorflow) (65.6.3)\n",
      "Requirement already satisfied: termcolor>=1.1.0 in ./miniforge3/lib/python3.10/site-packages (from tensorflow) (2.2.0)\n",
      "Requirement already satisfied: six>=1.12.0 in ./miniforge3/lib/python3.10/site-packages (from tensorflow) (1.16.0)\n",
      "Requirement already satisfied: numpy>=1.20 in ./miniforge3/lib/python3.10/site-packages (from tensorflow) (1.24.2)\n",
      "Requirement already satisfied: packaging in ./miniforge3/lib/python3.10/site-packages (from tensorflow) (23.0)\n",
      "Requirement already satisfied: gast<=0.4.0,>=0.2.1 in ./miniforge3/lib/python3.10/site-packages (from tensorflow) (0.4.0)\n",
      "Requirement already satisfied: keras<2.12,>=2.11.0 in ./miniforge3/lib/python3.10/site-packages (from tensorflow) (2.11.0)\n",
      "Requirement already satisfied: google-pasta>=0.1.1 in ./miniforge3/lib/python3.10/site-packages (from tensorflow) (0.2.0)\n",
      "Requirement already satisfied: astunparse>=1.6.0 in ./miniforge3/lib/python3.10/site-packages (from tensorflow) (1.6.3)\n",
      "Requirement already satisfied: flatbuffers>=2.0 in ./miniforge3/lib/python3.10/site-packages (from tensorflow) (23.1.21)\n",
      "Requirement already satisfied: wrapt>=1.11.0 in ./miniforge3/lib/python3.10/site-packages (from tensorflow) (1.15.0)\n",
      "Requirement already satisfied: grpcio<2.0,>=1.24.3 in ./miniforge3/lib/python3.10/site-packages (from tensorflow) (1.51.1)\n",
      "Requirement already satisfied: opt-einsum>=2.3.2 in ./miniforge3/lib/python3.10/site-packages (from tensorflow) (3.3.0)\n",
      "Requirement already satisfied: h5py>=2.9.0 in ./miniforge3/lib/python3.10/site-packages (from tensorflow) (3.8.0)\n",
      "Requirement already satisfied: tensorflow-estimator<2.12,>=2.11.0 in ./miniforge3/lib/python3.10/site-packages (from tensorflow) (2.11.0)\n",
      "Requirement already satisfied: absl-py>=1.0.0 in ./miniforge3/lib/python3.10/site-packages (from tensorflow) (1.4.0)\n",
      "Requirement already satisfied: tensorboard<2.12,>=2.11 in ./miniforge3/lib/python3.10/site-packages (from tensorflow) (2.11.0)\n",
      "Requirement already satisfied: protobuf>=3.9.2 in ./miniforge3/lib/python3.10/site-packages (from tensorflow) (3.20.3)\n",
      "Requirement already satisfied: wheel<1.0,>=0.23.0 in ./miniforge3/lib/python3.10/site-packages (from astunparse>=1.6.0->tensorflow) (0.40.0)\n",
      "Requirement already satisfied: tensorboard-data-server<0.7.0,>=0.6.0 in ./miniforge3/lib/python3.10/site-packages (from tensorboard<2.12,>=2.11->tensorflow) (0.6.1)\n",
      "Requirement already satisfied: google-auth-oauthlib<0.5,>=0.4.1 in ./miniforge3/lib/python3.10/site-packages (from tensorboard<2.12,>=2.11->tensorflow) (0.4.6)\n",
      "Requirement already satisfied: tensorboard-plugin-wit>=1.6.0 in ./miniforge3/lib/python3.10/site-packages (from tensorboard<2.12,>=2.11->tensorflow) (1.8.1)\n",
      "Requirement already satisfied: requests<3,>=2.21.0 in ./miniforge3/lib/python3.10/site-packages (from tensorboard<2.12,>=2.11->tensorflow) (2.28.2)\n",
      "Requirement already satisfied: markdown>=2.6.8 in ./miniforge3/lib/python3.10/site-packages (from tensorboard<2.12,>=2.11->tensorflow) (3.4.3)\n",
      "Requirement already satisfied: werkzeug>=1.0.1 in ./miniforge3/lib/python3.10/site-packages (from tensorboard<2.12,>=2.11->tensorflow) (2.2.3)\n",
      "Requirement already satisfied: google-auth<3,>=1.6.3 in ./miniforge3/lib/python3.10/site-packages (from tensorboard<2.12,>=2.11->tensorflow) (2.17.1)\n",
      "Requirement already satisfied: cachetools<6.0,>=2.0.0 in ./miniforge3/lib/python3.10/site-packages (from google-auth<3,>=1.6.3->tensorboard<2.12,>=2.11->tensorflow) (5.3.0)\n",
      "Requirement already satisfied: pyasn1-modules>=0.2.1 in ./miniforge3/lib/python3.10/site-packages (from google-auth<3,>=1.6.3->tensorboard<2.12,>=2.11->tensorflow) (0.2.7)\n",
      "Requirement already satisfied: rsa<5,>=3.1.4 in ./miniforge3/lib/python3.10/site-packages (from google-auth<3,>=1.6.3->tensorboard<2.12,>=2.11->tensorflow) (4.9)\n",
      "Requirement already satisfied: requests-oauthlib>=0.7.0 in ./miniforge3/lib/python3.10/site-packages (from google-auth-oauthlib<0.5,>=0.4.1->tensorboard<2.12,>=2.11->tensorflow) (1.3.1)\n",
      "Requirement already satisfied: certifi>=2017.4.17 in ./miniforge3/lib/python3.10/site-packages (from requests<3,>=2.21.0->tensorboard<2.12,>=2.11->tensorflow) (2022.12.7)\n",
      "Requirement already satisfied: urllib3<1.27,>=1.21.1 in ./miniforge3/lib/python3.10/site-packages (from requests<3,>=2.21.0->tensorboard<2.12,>=2.11->tensorflow) (1.26.15)\n",
      "Requirement already satisfied: idna<4,>=2.5 in ./miniforge3/lib/python3.10/site-packages (from requests<3,>=2.21.0->tensorboard<2.12,>=2.11->tensorflow) (3.4)\n",
      "Requirement already satisfied: charset-normalizer<4,>=2 in ./miniforge3/lib/python3.10/site-packages (from requests<3,>=2.21.0->tensorboard<2.12,>=2.11->tensorflow) (2.1.1)\n",
      "Requirement already satisfied: MarkupSafe>=2.1.1 in ./miniforge3/lib/python3.10/site-packages (from werkzeug>=1.0.1->tensorboard<2.12,>=2.11->tensorflow) (2.1.2)\n",
      "Requirement already satisfied: pyasn1<0.5.0,>=0.4.6 in ./miniforge3/lib/python3.10/site-packages (from pyasn1-modules>=0.2.1->google-auth<3,>=1.6.3->tensorboard<2.12,>=2.11->tensorflow) (0.4.8)\n",
      "Requirement already satisfied: oauthlib>=3.0.0 in ./miniforge3/lib/python3.10/site-packages (from requests-oauthlib>=0.7.0->google-auth-oauthlib<0.5,>=0.4.1->tensorboard<2.12,>=2.11->tensorflow) (3.2.2)\n",
      "Note: you may need to restart the kernel to use updated packages.\n"
     ]
    }
   ],
   "source": [
    "pip install tensorflow"
   ]
  },
  {
   "cell_type": "code",
   "execution_count": 7,
   "id": "1aa5854c",
   "metadata": {
    "collapsed": true
   },
   "outputs": [
    {
     "name": "stdout",
     "output_type": "stream",
     "text": [
      "Requirement already satisfied: tensorflow in ./miniforge3/lib/python3.10/site-packages (2.11.1)\n",
      "Requirement already satisfied: astunparse>=1.6.0 in ./miniforge3/lib/python3.10/site-packages (from tensorflow) (1.6.3)\n",
      "Requirement already satisfied: packaging in ./miniforge3/lib/python3.10/site-packages (from tensorflow) (23.0)\n",
      "Requirement already satisfied: grpcio<2.0,>=1.24.3 in ./miniforge3/lib/python3.10/site-packages (from tensorflow) (1.51.1)\n",
      "Requirement already satisfied: flatbuffers>=2.0 in ./miniforge3/lib/python3.10/site-packages (from tensorflow) (23.1.21)\n",
      "Requirement already satisfied: opt-einsum>=2.3.2 in ./miniforge3/lib/python3.10/site-packages (from tensorflow) (3.3.0)\n",
      "Requirement already satisfied: typing-extensions>=3.6.6 in ./miniforge3/lib/python3.10/site-packages (from tensorflow) (4.5.0)\n",
      "Requirement already satisfied: tensorflow-estimator<2.12,>=2.11.0 in ./miniforge3/lib/python3.10/site-packages (from tensorflow) (2.11.0)\n",
      "Requirement already satisfied: setuptools in ./miniforge3/lib/python3.10/site-packages (from tensorflow) (65.6.3)\n",
      "Requirement already satisfied: tensorboard<2.12,>=2.11 in ./miniforge3/lib/python3.10/site-packages (from tensorflow) (2.11.0)\n",
      "Requirement already satisfied: numpy>=1.20 in ./miniforge3/lib/python3.10/site-packages (from tensorflow) (1.24.2)\n",
      "Requirement already satisfied: google-pasta>=0.1.1 in ./miniforge3/lib/python3.10/site-packages (from tensorflow) (0.2.0)\n",
      "Requirement already satisfied: wrapt>=1.11.0 in ./miniforge3/lib/python3.10/site-packages (from tensorflow) (1.15.0)\n",
      "Requirement already satisfied: absl-py>=1.0.0 in ./miniforge3/lib/python3.10/site-packages (from tensorflow) (1.4.0)\n",
      "Requirement already satisfied: keras<2.12,>=2.11.0 in ./miniforge3/lib/python3.10/site-packages (from tensorflow) (2.11.0)\n",
      "Requirement already satisfied: protobuf>=3.9.2 in ./miniforge3/lib/python3.10/site-packages (from tensorflow) (3.20.3)\n",
      "Requirement already satisfied: gast<=0.4.0,>=0.2.1 in ./miniforge3/lib/python3.10/site-packages (from tensorflow) (0.4.0)\n",
      "Requirement already satisfied: six>=1.12.0 in ./miniforge3/lib/python3.10/site-packages (from tensorflow) (1.16.0)\n",
      "Requirement already satisfied: h5py>=2.9.0 in ./miniforge3/lib/python3.10/site-packages (from tensorflow) (3.8.0)\n",
      "Requirement already satisfied: termcolor>=1.1.0 in ./miniforge3/lib/python3.10/site-packages (from tensorflow) (2.2.0)\n",
      "Requirement already satisfied: wheel<1.0,>=0.23.0 in ./miniforge3/lib/python3.10/site-packages (from astunparse>=1.6.0->tensorflow) (0.40.0)\n",
      "Requirement already satisfied: requests<3,>=2.21.0 in ./miniforge3/lib/python3.10/site-packages (from tensorboard<2.12,>=2.11->tensorflow) (2.28.2)\n",
      "Requirement already satisfied: werkzeug>=1.0.1 in ./miniforge3/lib/python3.10/site-packages (from tensorboard<2.12,>=2.11->tensorflow) (2.2.3)\n",
      "Requirement already satisfied: google-auth-oauthlib<0.5,>=0.4.1 in ./miniforge3/lib/python3.10/site-packages (from tensorboard<2.12,>=2.11->tensorflow) (0.4.6)\n",
      "Requirement already satisfied: google-auth<3,>=1.6.3 in ./miniforge3/lib/python3.10/site-packages (from tensorboard<2.12,>=2.11->tensorflow) (2.17.1)\n",
      "Requirement already satisfied: tensorboard-data-server<0.7.0,>=0.6.0 in ./miniforge3/lib/python3.10/site-packages (from tensorboard<2.12,>=2.11->tensorflow) (0.6.1)\n",
      "Requirement already satisfied: markdown>=2.6.8 in ./miniforge3/lib/python3.10/site-packages (from tensorboard<2.12,>=2.11->tensorflow) (3.4.3)\n",
      "Requirement already satisfied: tensorboard-plugin-wit>=1.6.0 in ./miniforge3/lib/python3.10/site-packages (from tensorboard<2.12,>=2.11->tensorflow) (1.8.1)\n",
      "Requirement already satisfied: pyasn1-modules>=0.2.1 in ./miniforge3/lib/python3.10/site-packages (from google-auth<3,>=1.6.3->tensorboard<2.12,>=2.11->tensorflow) (0.2.7)\n",
      "Requirement already satisfied: cachetools<6.0,>=2.0.0 in ./miniforge3/lib/python3.10/site-packages (from google-auth<3,>=1.6.3->tensorboard<2.12,>=2.11->tensorflow) (5.3.0)\n",
      "Requirement already satisfied: rsa<5,>=3.1.4 in ./miniforge3/lib/python3.10/site-packages (from google-auth<3,>=1.6.3->tensorboard<2.12,>=2.11->tensorflow) (4.9)\n",
      "Requirement already satisfied: requests-oauthlib>=0.7.0 in ./miniforge3/lib/python3.10/site-packages (from google-auth-oauthlib<0.5,>=0.4.1->tensorboard<2.12,>=2.11->tensorflow) (1.3.1)\n",
      "Requirement already satisfied: charset-normalizer<4,>=2 in ./miniforge3/lib/python3.10/site-packages (from requests<3,>=2.21.0->tensorboard<2.12,>=2.11->tensorflow) (2.1.1)\n",
      "Requirement already satisfied: idna<4,>=2.5 in ./miniforge3/lib/python3.10/site-packages (from requests<3,>=2.21.0->tensorboard<2.12,>=2.11->tensorflow) (3.4)\n",
      "Requirement already satisfied: urllib3<1.27,>=1.21.1 in ./miniforge3/lib/python3.10/site-packages (from requests<3,>=2.21.0->tensorboard<2.12,>=2.11->tensorflow) (1.26.15)\n",
      "Requirement already satisfied: certifi>=2017.4.17 in ./miniforge3/lib/python3.10/site-packages (from requests<3,>=2.21.0->tensorboard<2.12,>=2.11->tensorflow) (2022.12.7)\n",
      "Requirement already satisfied: MarkupSafe>=2.1.1 in ./miniforge3/lib/python3.10/site-packages (from werkzeug>=1.0.1->tensorboard<2.12,>=2.11->tensorflow) (2.1.2)\n",
      "Requirement already satisfied: pyasn1<0.5.0,>=0.4.6 in ./miniforge3/lib/python3.10/site-packages (from pyasn1-modules>=0.2.1->google-auth<3,>=1.6.3->tensorboard<2.12,>=2.11->tensorflow) (0.4.8)\n",
      "Requirement already satisfied: oauthlib>=3.0.0 in ./miniforge3/lib/python3.10/site-packages (from requests-oauthlib>=0.7.0->google-auth-oauthlib<0.5,>=0.4.1->tensorboard<2.12,>=2.11->tensorflow) (3.2.2)\n",
      "Note: you may need to restart the kernel to use updated packages.\n"
     ]
    }
   ],
   "source": [
    "pip install --upgrade tensorflow"
   ]
  },
  {
   "cell_type": "code",
   "execution_count": 8,
   "id": "2c80e70f",
   "metadata": {
    "collapsed": true
   },
   "outputs": [
    {
     "name": "stdout",
     "output_type": "stream",
     "text": [
      "Requirement already satisfied: pandas in ./miniforge3/lib/python3.10/site-packages (1.5.3)\n",
      "Requirement already satisfied: pytz>=2020.1 in ./miniforge3/lib/python3.10/site-packages (from pandas) (2023.3)\n",
      "Requirement already satisfied: python-dateutil>=2.8.1 in ./miniforge3/lib/python3.10/site-packages (from pandas) (2.8.2)\n",
      "Requirement already satisfied: numpy>=1.21.0 in ./miniforge3/lib/python3.10/site-packages (from pandas) (1.24.2)\n",
      "Requirement already satisfied: six>=1.5 in ./miniforge3/lib/python3.10/site-packages (from python-dateutil>=2.8.1->pandas) (1.16.0)\n",
      "Note: you may need to restart the kernel to use updated packages.\n"
     ]
    }
   ],
   "source": [
    "pip install pandas"
   ]
  },
  {
   "cell_type": "code",
   "execution_count": 9,
   "id": "da1b9a09",
   "metadata": {
    "collapsed": true
   },
   "outputs": [
    {
     "name": "stdout",
     "output_type": "stream",
     "text": [
      "Requirement already satisfied: scikit-learn in ./miniforge3/lib/python3.10/site-packages (1.2.2)\n",
      "Requirement already satisfied: numpy>=1.17.3 in ./miniforge3/lib/python3.10/site-packages (from scikit-learn) (1.24.2)\n",
      "Requirement already satisfied: joblib>=1.1.1 in ./miniforge3/lib/python3.10/site-packages (from scikit-learn) (1.2.0)\n",
      "Requirement already satisfied: scipy>=1.3.2 in ./miniforge3/lib/python3.10/site-packages (from scikit-learn) (1.10.1)\n",
      "Requirement already satisfied: threadpoolctl>=2.0.0 in ./miniforge3/lib/python3.10/site-packages (from scikit-learn) (3.1.0)\n",
      "Note: you may need to restart the kernel to use updated packages.\n"
     ]
    }
   ],
   "source": [
    "pip install -U scikit-learn"
   ]
  },
  {
   "cell_type": "code",
   "execution_count": 10,
   "id": "5442539a",
   "metadata": {},
   "outputs": [
    {
     "name": "stdout",
     "output_type": "stream",
     "text": [
      "TensorFlow version: 2.11.1\n"
     ]
    }
   ],
   "source": [
    "import tensorflow as tf\n",
    "print(\"TensorFlow version:\", tf.__version__)"
   ]
  },
  {
   "cell_type": "code",
   "execution_count": 25,
   "id": "457990c3",
   "metadata": {},
   "outputs": [
    {
     "name": "stdout",
     "output_type": "stream",
     "text": [
      "54/54 [==============================] - 0s 351us/step\n",
      "Mean Squared Error: 2.6634\n",
      "4/4 [==============================] - 0s 566us/step\n"
     ]
    }
   ],
   "source": [
    "import pandas as pd\n",
    "import numpy as np\n",
    "import tensorflow as tf\n",
    "from tensorflow import keras\n",
    "from sklearn.model_selection import train_test_split\n",
    "from sklearn.preprocessing import StandardScaler\n",
    "\n",
    "# 加载数据\n",
    "data_path = \"Premier_League_data/all_seasons_data_relevant.csv\"\n",
    "all_seasons_df = pd.read_csv(data_path)\n",
    "\n",
    "# 计算平均进球数\n",
    "all_seasons_df['HomeTeam_avg_goals'] = all_seasons_df.groupby('HomeTeam')['FTHG'].transform('mean')\n",
    "all_seasons_df['AwayTeam_avg_goals'] = all_seasons_df.groupby('AwayTeam')['FTAG'].transform('mean')\n",
    "\n",
    "# 定义新特征\n",
    "new_features = ['HomeTeam_avg_goals', 'AwayTeam_avg_goals']\n",
    "\n",
    "# 删除包含 NaN 值的行\n",
    "all_seasons_df = all_seasons_df.dropna(subset=new_features)\n",
    "\n",
    "# 定义特征和目标变量\n",
    "X_new = all_seasons_df[new_features]\n",
    "y_new = all_seasons_df['FTHG'] - all_seasons_df['FTAG']\n",
    "\n",
    "# 划分训练集和测试集\n",
    "X_train_new, X_test_new, y_train_new, y_test_new = train_test_split(X_new, y_new, test_size=0.2, random_state=42)\n",
    "\n",
    "# 数据标准化\n",
    "scaler = StandardScaler()\n",
    "X_train_new_scaled = scaler.fit_transform(X_train_new)\n",
    "X_test_new_scaled = scaler.transform(X_test_new)\n",
    "\n",
    "# 构建神经网络模型\n",
    "model = keras.Sequential([\n",
    "    keras.layers.Dense(32, activation='relu', input_shape=(X_train_new_scaled.shape[1],)),\n",
    "    keras.layers.Dense(16, activation='relu'),\n",
    "    keras.layers.Dense(1)\n",
    "])\n",
    "\n",
    "# 编译模型\n",
    "model.compile(optimizer='adam', loss='mean_squared_error')\n",
    "\n",
    "# 训练模型\n",
    "model.fit(X_train_new_scaled, y_train_new, epochs=50, verbose=0)\n",
    "\n",
    "# 预测\n",
    "y_pred_new = model.predict(X_test_new_scaled)\n",
    "\n",
    "# 计算均方误差\n",
    "mse_new = np.mean((y_test_new - y_pred_new.reshape(-1))**2)\n",
    "print(\"Mean Squared Error: {:.4f}\".format(mse_new))\n",
    "\n",
    "# 加载 remaining_matches_updated.csv 文件\n",
    "remaining_matches_path = \"Premier_League_data/remaining_matches_updated.csv\"\n",
    "remaining_matches_df = pd.read_csv(remaining_matches_path)\n",
    "\n",
    "# 计算主队和客队的平均进球数\n",
    "home_team_avg_goals = all_seasons_df.groupby('HomeTeam')['FTHG'].mean()\n",
    "away_team_avg_goals = all_seasons_df.groupby('AwayTeam')['FTAG'].mean()\n",
    "\n",
    "# 添加主队和客队的平均进球数到 remaining_matches_df\n",
    "remaining_matches_df['HomeTeam_avg_goals'] = remaining_matches_df['Home Team'].map(home_team_avg_goals)\n",
    "remaining_matches_df['AwayTeam_avg_goals'] = remaining_matches_df['Away Team'].map(away_team_avg_goals)\n",
    "\n",
    "# 使用模型预测比分差值\n",
    "remaining_matches_features = remaining_matches_df[['HomeTeam_avg_goals', 'AwayTeam_avg_goals']]\n",
    "remaining_matches_features_scaled = scaler.transform(remaining_matches_features)\n",
    "remaining_matches_df['score_difference'] = model.predict(remaining_matches_features_scaled).reshape(-1)\n",
    "\n",
    "remaining_matches_df['predicted_home_goals'] = (remaining_matches_df['HomeTeam_avg_goals'] + remaining_matches_df['score_difference'] / 2).round()\n",
    "remaining_matches_df['predicted_away_goals'] = (remaining_matches_df['AwayTeam_avg_goals'] - remaining_matches_df['score_difference'] / 2).round()\n",
    "\n",
    "# 将负数进球数修正为0\n",
    "remaining_matches_df['predicted_home_goals'] = np.maximum(remaining_matches_df['predicted_home_goals'], 0)\n",
    "remaining_matches_df['predicted_away_goals'] = np.maximum(remaining_matches_df['predicted_away_goals'], 0)\n",
    "\n",
    "# 添加预测结果\n",
    "remaining_matches_df['predicted_result'] = np.where(remaining_matches_df['predicted_home_goals'] > remaining_matches_df['predicted_away_goals'], 'H',\n",
    "                                                     np.where(remaining_matches_df['predicted_home_goals'] < remaining_matches_df['predicted_away_goals'], 'A', 'D'))\n",
    "\n",
    "# 仅显示需要的列\n",
    "final_predictions = remaining_matches_df[['Date', 'Home Team', 'Away Team', 'predicted_home_goals', 'predicted_away_goals', 'predicted_result']]\n",
    "\n",
    "# 打印预测结果\n",
    "# print(final_predictions)\n",
    "\n",
    "# 保存预测结果到 CSV 文件\n",
    "final_predictions.to_csv(\"Premier_League_data/predicted/predicted_results_k_t.csv\", index=False)\n"
   ]
  },
  {
   "cell_type": "code",
   "execution_count": null,
   "id": "f8cb5f22",
   "metadata": {},
   "outputs": [],
   "source": []
  },
  {
   "cell_type": "code",
   "execution_count": 19,
   "id": "2a5d168f",
   "metadata": {},
   "outputs": [
    {
     "name": "stdout",
     "output_type": "stream",
     "text": [
      "54/54 [==============================] - 0s 351us/step\n",
      "Mean Squared Error: 2.0747\n",
      "4/4 [==============================] - 0s 489us/step\n"
     ]
    }
   ],
   "source": [
    "import pandas as pd\n",
    "import numpy as np\n",
    "import tensorflow as tf\n",
    "from tensorflow import keras\n",
    "from sklearn.model_selection import train_test_split\n",
    "from sklearn.preprocessing import StandardScaler\n",
    "\n",
    "# 加载数据\n",
    "data_path = \"Premier_League_data/all_seasons_data_relevant.csv\"\n",
    "all_seasons_df = pd.read_csv(data_path)\n",
    "\n",
    "# 计算平均进球数\n",
    "all_seasons_df['HomeTeam_avg_goals'] = all_seasons_df.groupby('HomeTeam')['FTHG'].transform('mean')\n",
    "all_seasons_df['AwayTeam_avg_goals'] = all_seasons_df.groupby('AwayTeam')['FTAG'].transform('mean')\n",
    "\n",
    "# 添加主场优势特征\n",
    "all_seasons_df['HomeTeam_advantage'] = all_seasons_df['HomeTeam_avg_goals'] - all_seasons_df['AwayTeam_avg_goals']\n",
    "\n",
    "# 添加近期表现特征（过去5场比赛）\n",
    "all_seasons_df['HomeTeam_recent_performance'] = all_seasons_df.groupby('HomeTeam')['FTHG'].rolling(5).mean().reset_index(0, drop=True)\n",
    "all_seasons_df['AwayTeam_recent_performance'] = all_seasons_df.groupby('AwayTeam')['FTAG'].rolling(5).mean().reset_index(0, drop=True)\n",
    "\n",
    "# 定义新特征列表\n",
    "new_features = ['HomeTeam_avg_goals', 'AwayTeam_avg_goals', 'HomeTeam_advantage', 'HomeTeam_recent_performance', 'AwayTeam_recent_performance']\n",
    "\n",
    "# 填充 NaN 值为平均值\n",
    "all_seasons_df[new_features] = all_seasons_df[new_features].fillna(all_seasons_df[new_features].mean())\n",
    "\n",
    "# 定义特征和目标变量\n",
    "X_new = all_seasons_df[new_features]\n",
    "y_new = all_seasons_df['FTHG'] - all_seasons_df['FTAG']\n",
    "\n",
    "# 划分训练集和测试集\n",
    "X_train_new, X_test_new, y_train_new, y_test_new = train_test_split(X_new, y_new, test_size=0.2, random_state=42)\n",
    "\n",
    "# 数据标准化\n",
    "scaler = StandardScaler()\n",
    "X_train_new_scaled = scaler.fit_transform(X_train_new)\n",
    "X_test_new_scaled = scaler.transform(X_test_new)\n",
    "\n",
    "# 构建神经网络模型\n",
    "model = keras.Sequential([\n",
    "    keras.layers.Dense(64, activation='relu', input_shape=(X_train_new_scaled.shape[1],)),\n",
    "    keras.layers.Dense(32, activation='relu'),\n",
    "    keras.layers.Dense(16, activation='relu'),\n",
    "    keras.layers.Dense(1)\n",
    "])\n",
    "\n",
    "# 编译模型\n",
    "optimizer = keras.optimizers.Adam(learning_rate=0.001)\n",
    "model.compile(optimizer=optimizer, loss='mean_squared_error')\n",
    "\n",
    "# 训练模型\n",
    "model.fit(X_train_new_scaled, y_train_new, epochs=100, batch_size=32, verbose=0)\n",
    "\n",
    "# 预测\n",
    "y_pred_new = model.predict(X_test_new_scaled)\n",
    "\n",
    "# 计算均方误差\n",
    "mse_new = np.mean((y_test_new - y_pred_new.reshape(-1))**2)\n",
    "print(\"Mean Squared Error: {:.4f}\".format(mse_new))\n",
    "\n",
    "# 加载 remaining_matches_updated.csv 文件\n",
    "remaining_matches_path = \"Premier_League_data/remaining_matches_updated.csv\"\n",
    "remaining_matches_df = pd.read_csv(remaining_matches_path)\n",
    "\n",
    "# 计算主队和客队的平均进球数\n",
    "home_team_avg_goals = all_seasons_df.groupby('HomeTeam')['FTHG'].mean()\n",
    "away_team_avg_goals = all_seasons_df.groupby('AwayTeam')['FTAG'].mean()\n",
    "\n",
    "# 计算近期表现（过去5场比赛）\n",
    "home_team_recent_performance = all_seasons_df.groupby('HomeTeam')['FTHG'].rolling(5).mean().groupby(level=0).last().reset_index(0, drop=True)\n",
    "away_team_recent_performance = all_seasons_df.groupby('AwayTeam')['FTAG'].rolling(5).mean().groupby(level=0).last().reset_index(0, drop=True)\n",
    "\n",
    "# 使用提供的列名\n",
    "home_team_column_name = 'Home Team'\n",
    "away_team_column_name = 'Away Team'\n",
    "\n",
    "# 使用新的列名\n",
    "remaining_matches_df['HomeTeam_avg_goals'] = remaining_matches_df[home_team_column_name].map(home_team_avg_goals).fillna(home_team_avg_goals.mean())\n",
    "remaining_matches_df['AwayTeam_avg_goals'] = remaining_matches_df[away_team_column_name].map(away_team_avg_goals).fillna(away_team_avg_goals.mean())\n",
    "remaining_matches_df['HomeTeam_advantage'] = remaining_matches_df['HomeTeam_avg_goals'] - remaining_matches_df['AwayTeam_avg_goals']\n",
    "\n",
    "remaining_matches_df['HomeTeam_recent_performance'] = remaining_matches_df[home_team_column_name].map(home_team_recent_performance.to_dict()).fillna(home_team_recent_performance.mean())\n",
    "remaining_matches_df['AwayTeam_recent_performance'] = remaining_matches_df[away_team_column_name].map(away_team_recent_performance.to_dict()).fillna(away_team_recent_performance.mean())\n",
    "remaining_matches_df['Performance_difference'] = remaining_matches_df['HomeTeam_recent_performance'] - remaining_matches_df['AwayTeam_recent_performance']\n",
    "\n",
    "# 填充 NaN 值为平均值\n",
    "remaining_matches_df[new_features] = remaining_matches_df[new_features].fillna(remaining_matches_df[new_features].mean())\n",
    "\n",
    "# 提取特征\n",
    "X_remaining = remaining_matches_df[new_features]\n",
    "\n",
    "# 标准化数据\n",
    "X_remaining_scaled = scaler.transform(X_remaining)\n",
    "\n",
    "# 预测\n",
    "y_remaining_pred = model.predict(X_remaining_scaled)\n",
    "\n",
    "# 将预测结果添加到 remaining_matches_df\n",
    "remaining_matches_df['predicted_outcome'] = y_remaining_pred\n",
    "\n",
    "# 计算预测后的主队和客队进球数\n",
    "remaining_matches_df['predicted_home_goals'] = np.round(remaining_matches_df['HomeTeam_avg_goals'] + y_remaining_pred.flatten() / 2)\n",
    "remaining_matches_df['predicted_away_goals'] = np.round(remaining_matches_df['AwayTeam_avg_goals'] - y_remaining_pred.flatten() / 2)\n",
    "\n",
    "# 将负数预测值修正为 0\n",
    "remaining_matches_df['predicted_home_goals'] = remaining_matches_df['predicted_home_goals'].apply(lambda x: max(0, x))\n",
    "remaining_matches_df['predicted_away_goals'] = remaining_matches_df['predicted_away_goals'].apply(lambda x: max(0, x))\n",
    "\n",
    "# 将预测结果保存到文件\n",
    "remaining_matches_df[['Home Team', 'Away Team', 'predicted_home_goals', 'predicted_away_goals']].to_csv(\"Premier_League_data/predicted/predicted_results_k_t_new_1.csv\", index=False)"
   ]
  },
  {
   "cell_type": "markdown",
   "id": "0b2263ff",
   "metadata": {},
   "source": [
    "# PyTorch构建一个神经网络模型来预测英超联赛比赛的结果"
   ]
  },
  {
   "cell_type": "code",
   "execution_count": null,
   "id": "a41a5a62",
   "metadata": {},
   "outputs": [],
   "source": []
  },
  {
   "cell_type": "code",
   "execution_count": null,
   "id": "b1891afb",
   "metadata": {},
   "outputs": [],
   "source": []
  },
  {
   "cell_type": "code",
   "execution_count": null,
   "id": "72202ae3",
   "metadata": {},
   "outputs": [],
   "source": []
  }
 ],
 "metadata": {
  "kernelspec": {
   "display_name": "Python 3 (ipykernel)",
   "language": "python",
   "name": "python3"
  },
  "language_info": {
   "codemirror_mode": {
    "name": "ipython",
    "version": 3
   },
   "file_extension": ".py",
   "mimetype": "text/x-python",
   "name": "python",
   "nbconvert_exporter": "python",
   "pygments_lexer": "ipython3",
   "version": "3.10.10"
  }
 },
 "nbformat": 4,
 "nbformat_minor": 5
}
